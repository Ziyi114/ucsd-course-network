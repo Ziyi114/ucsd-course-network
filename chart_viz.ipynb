{
 "cells": [
  {
   "cell_type": "code",
   "execution_count": 1,
   "metadata": {},
   "outputs": [
    {
     "name": "stdout",
     "output_type": "stream",
     "text": [
      "1\n",
      "{'ECE 109', 'PHYS 4B', 'MATH 3C', 'MATH 31AH', 'ECE 25', 'MATH 4C', 'ECE 35', 'MATH 10B', 'MATH 10A', 'ECE 161', 'ECE 161C', 'ECE 100', 'MATH 20A', 'ECE 15', 'MATH 10C', 'MATH 31BH', 'MATH 20C', 'MATH 20F', 'PHYS 2C', 'ECE 161A', 'ECE 101', 'MATH 20D', 'PHYS 2A', 'MATH 18', 'MATH 21C', 'ECE 107', 'ECE 45', 'MATH 20B', 'ECE 30', 'ECE 5', 'PHYS 4A', 'PHYS 2B', 'ECE 152A', 'ECE 65', 'PHYS 4C', 'ECE 161B', 'ECE 153'}\n",
      "[['MATH 3C', 'ECE 25', 'ECE 15'], ['ECE 30', 'ECE 5'], ['MATH 31AH', 'MATH 4C'], ['MATH 10A', 'MATH 31BH', 'MATH 18'], ['MATH 10B', 'MATH 20A'], ['MATH 10C', 'MATH 20D', 'MATH 20B'], ['ECE 109', 'MATH 20C', 'PHYS 2A'], ['PHYS 4B', 'ECE 35', 'ECE 153'], ['ECE 45', 'PHYS 2B', 'ECE 65'], ['ECE 100', 'PHYS 2C', 'ECE 101'], ['ECE 107'], ['ECE 161A'], ['PHYS 4A', 'ECE 161B'], ['ECE 161C'], ['PHYS 4C']]\n",
      "1\n",
      "{'ECE 109', 'PHYS 4B', 'MATH 3C', 'MATH 31AH', 'ECE 25', 'MATH 4C', 'ECE 35', 'MATH 10B', 'MATH 10A', 'ECE 161', 'ECE 161C', 'ECE 100', 'MATH 20A', 'ECE 15', 'MATH 10C', 'MATH 31BH', 'MATH 20C', 'MATH 20F', 'PHYS 2C', 'ECE 161A', 'ECE 101', 'MATH 20D', 'PHYS 2A', 'MATH 18', 'MATH 21C', 'ECE 107', 'ECE 45', 'MATH 20B', 'ECE 30', 'ECE 5', 'PHYS 4A', 'PHYS 2B', 'ECE 152A', 'ECE 65', 'PHYS 4C', 'ECE 161B', 'ECE 153'}\n",
      "[['MATH 3C', 'ECE 25', 'ECE 15'], ['MATH 18', 'ECE 30', 'ECE 5'], ['MATH 31AH', 'MATH 4C'], ['MATH 10A', 'MATH 20A', 'MATH 31BH'], ['MATH 10B', 'MATH 20D', 'PHYS 2A'], ['MATH 10C'], ['MATH 20B', 'PHYS 4A'], ['PHYS 4B', 'ECE 35', 'MATH 20C'], ['ECE 109', 'PHYS 2C', 'ECE 45'], ['ECE 101', 'PHYS 2B', 'ECE 65'], ['ECE 153'], ['ECE 100', 'ECE 161A', 'ECE 107'], ['ECE 161B'], ['ECE 161C'], ['PHYS 4C']]\n",
      "1\n",
      "{'ECE 109', 'MATH 3C', 'PHYS 4B', 'MATH 31AH', 'ECE 25', 'MATH 4C', 'ECE 35', 'MATH 10B', 'MATH 10A', 'ECE 161C', 'ECE 100', 'MATH 20A', 'ECE 15', 'MATH 10C', 'MATH 31BH', 'MATH 20C', 'MATH 20F', 'PHYS 2C', 'ECE 161A', 'ECE 101', 'MATH 20D', 'PHYS 2A', 'MATH 18', 'ECE 152A', 'ECE 107', 'ECE 45', 'MATH 20B', 'ECE 30', 'ECE 5', 'PHYS 4A', 'PHYS 2B', 'ECE 161', 'ECE 65', 'PHYS 4C', 'ECE 161B', 'ECE 153'}\n",
      "[['MATH 3C', 'ECE 25', 'ECE 15'], ['ECE 30', 'ECE 5'], ['MATH 31AH', 'MATH 4C', 'MATH 10A'], ['MATH 10B', 'MATH 20A', 'MATH 31BH'], ['MATH 20D', 'PHYS 2A', 'MATH 18'], ['MATH 10C'], ['PHYS 2C', 'MATH 20B', 'PHYS 4A'], ['PHYS 4B', 'ECE 35', 'MATH 20C'], ['ECE 109', 'ECE 45', 'PHYS 2B'], ['ECE 101', 'ECE 107', 'ECE 65'], ['ECE 153'], ['ECE 100', 'ECE 161A', 'PHYS 4C'], ['ECE 161B'], ['ECE 161C']]\n",
      "1\n",
      "{'ECE 109', 'PHYS 4B', 'MATH 3C', 'MATH 31AH', 'ECE 25', 'MATH 4C', 'ECE 35', 'MATH 10B', 'MATH 10A', 'ECE 161', 'ECE 161C', 'ECE 100', 'MATH 20A', 'ECE 15', 'MATH 10C', 'MATH 31BH', 'MATH 20C', 'MATH 20F', 'PHYS 2C', 'ECE 161A', 'ECE 101', 'MATH 20D', 'PHYS 2A', 'MATH 18', 'MATH 21C', 'ECE 107', 'ECE 45', 'MATH 20B', 'ECE 30', 'ECE 5', 'PHYS 4A', 'PHYS 2B', 'ECE 152A', 'ECE 65', 'PHYS 4C', 'ECE 161B', 'ECE 153'}\n",
      "[['MATH 3C', 'ECE 25', 'ECE 15'], ['ECE 30', 'ECE 5'], ['MATH 31AH', 'MATH 4C', 'MATH 10A'], ['MATH 20A', 'MATH 31BH', 'MATH 18'], ['MATH 10B'], ['MATH 20D'], ['PHYS 2A', 'MATH 20B', 'PHYS 4A'], ['PHYS 4B', 'ECE 35', 'MATH 10C'], ['MATH 20C', 'ECE 45', 'PHYS 2B'], ['ECE 109', 'PHYS 2C', 'ECE 101'], ['ECE 107', 'ECE 65', 'ECE 153'], ['ECE 100', 'ECE 161A', 'PHYS 4C'], ['ECE 161B'], ['ECE 161C']]\n",
      "1\n",
      "{'ECE 109', 'MATH 3C', 'PHYS 4B', 'MATH 31AH', 'ECE 25', 'MATH 4C', 'ECE 35', 'MATH 10B', 'MATH 10A', 'ECE 161C', 'ECE 100', 'MATH 20A', 'ECE 15', 'MATH 10C', 'MATH 31BH', 'MATH 20C', 'MATH 20F', 'PHYS 2C', 'ECE 161A', 'ECE 101', 'MATH 20D', 'PHYS 2A', 'MATH 18', 'ECE 152A', 'ECE 107', 'ECE 45', 'MATH 20B', 'ECE 30', 'ECE 5', 'PHYS 4A', 'PHYS 2B', 'ECE 161', 'ECE 65', 'PHYS 4C', 'ECE 161B', 'ECE 153'}\n",
      "[['MATH 3C', 'ECE 25', 'ECE 15'], ['MATH 10A', 'ECE 30', 'ECE 5'], ['MATH 31AH', 'MATH 4C', 'MATH 10B'], ['MATH 20A', 'MATH 10C', 'MATH 31BH'], ['PHYS 2A', 'MATH 18', 'MATH 20B'], ['ECE 35', 'MATH 20C', 'MATH 20D'], ['ECE 109', 'PHYS 2C', 'ECE 45'], ['ECE 101', 'PHYS 2B', 'ECE 65'], ['ECE 100', 'ECE 161A', 'PHYS 4C'], ['PHYS 4A', 'ECE 161B', 'ECE 153'], ['PHYS 4B', 'ECE 161C'], ['ECE 107']]\n",
      "1\n",
      "{'ECE 109', 'PHYS 4B', 'MATH 3C', 'MATH 31AH', 'ECE 25', 'MATH 4C', 'ECE 35', 'MATH 10B', 'MATH 10A', 'ECE 161', 'ECE 161C', 'ECE 100', 'MATH 20A', 'ECE 15', 'MATH 10C', 'MATH 31BH', 'MATH 20C', 'MATH 20F', 'PHYS 2C', 'ECE 161A', 'ECE 101', 'MATH 20D', 'PHYS 2A', 'MATH 18', 'MATH 21C', 'ECE 107', 'ECE 45', 'MATH 20B', 'ECE 30', 'ECE 5', 'PHYS 4A', 'PHYS 2B', 'ECE 152A', 'ECE 65', 'PHYS 4C', 'ECE 161B', 'ECE 153'}\n",
      "[['MATH 3C', 'ECE 25', 'ECE 15'], ['MATH 10A', 'ECE 30', 'ECE 5'], ['MATH 31AH', 'MATH 4C', 'MATH 18'], ['MATH 10B', 'MATH 20A', 'MATH 31BH'], ['MATH 20D', 'MATH 20B'], ['MATH 10C', 'MATH 20C', 'PHYS 2A'], ['ECE 109', 'ECE 35', 'PHYS 2C'], ['ECE 45', 'PHYS 2B', 'ECE 65'], ['ECE 100', 'ECE 101'], ['PHYS 4A', 'ECE 153'], ['PHYS 4B'], ['ECE 161A', 'ECE 107', 'PHYS 4C'], ['ECE 161B'], ['ECE 161C']]\n",
      "1\n",
      "{'ECE 109', 'PHYS 4B', 'MATH 3C', 'MATH 31AH', 'ECE 25', 'MATH 4C', 'ECE 35', 'MATH 10B', 'MATH 10A', 'ECE 161', 'ECE 161C', 'ECE 100', 'MATH 20A', 'ECE 15', 'MATH 10C', 'MATH 31BH', 'MATH 20C', 'MATH 20F', 'PHYS 2C', 'PHYS 4C', 'ECE 161A', 'ECE 101', 'MATH 20D', 'PHYS 2A', 'MATH 18', 'ECE 107', 'ECE 45', 'MATH 20B', 'ECE 30', 'ECE 5', 'PHYS 4A', 'PHYS 2B', 'ECE 152A', 'ECE 65', 'MATH 21C', 'ECE 161B', 'ECE 153'}\n",
      "[['MATH 3C', 'ECE 25', 'ECE 15'], ['MATH 10A', 'ECE 30', 'ECE 5'], ['MATH 31AH', 'MATH 4C', 'MATH 10B'], ['MATH 20A', 'MATH 10C', 'MATH 31BH'], ['MATH 18', 'MATH 20B'], ['MATH 20C', 'MATH 20D'], ['ECE 109', 'PHYS 2A', 'PHYS 4A'], ['PHYS 4B', 'ECE 35', 'PHYS 2C'], ['PHYS 4C', 'ECE 45', 'PHYS 2B'], ['ECE 101', 'ECE 107', 'ECE 65'], ['ECE 153'], ['ECE 100', 'ECE 161A'], ['ECE 161B'], ['ECE 161C']]\n",
      "1\n",
      "{'ECE 109', 'PHYS 4B', 'MATH 3C', 'MATH 31AH', 'ECE 25', 'MATH 4C', 'ECE 35', 'MATH 10B', 'MATH 10A', 'ECE 161C', 'ECE 100', 'MATH 20A', 'ECE 15', 'MATH 10C', 'MATH 31BH', 'MATH 20C', 'PHYS 2C', 'ECE 161A', 'ECE 101', 'MATH 20D', 'PHYS 2A', 'MATH 18', 'ECE 152A', 'MATH 21C', 'ECE 107', 'ECE 45', 'MATH 20B', 'ECE 30', 'ECE 5', 'PHYS 4A', 'PHYS 2B', 'ECE 161', 'ECE 65', 'PHYS 4C', 'ECE 161B', 'ECE 153'}\n",
      "[['MATH 3C', 'ECE 25', 'ECE 15'], ['MATH 10A', 'ECE 30', 'ECE 5'], ['MATH 31AH', 'MATH 4C'], ['MATH 10B', 'MATH 20A', 'MATH 31BH'], ['MATH 20D', 'MATH 18'], ['MATH 10C'], ['PHYS 2A', 'MATH 20B', 'PHYS 4A'], ['PHYS 4B', 'ECE 35', 'MATH 20C'], ['ECE 109', 'PHYS 2C', 'ECE 45'], ['ECE 101', 'PHYS 2B', 'ECE 65'], ['ECE 153'], ['ECE 100', 'ECE 161A', 'ECE 107'], ['ECE 161B'], ['ECE 161C'], ['PHYS 4C']]\n",
      "1\n",
      "{'ECE 109', 'PHYS 4B', 'MATH 3C', 'MATH 31AH', 'ECE 25', 'MATH 4C', 'ECE 35', 'MATH 10B', 'MATH 10A', 'ECE 161C', 'ECE 100', 'MATH 20A', 'ECE 15', 'MATH 10C', 'MATH 31BH', 'MATH 20C', 'PHYS 2C', 'ECE 161A', 'ECE 101', 'MATH 20D', 'PHYS 2A', 'MATH 18', 'ECE 152A', 'MATH 21C', 'ECE 107', 'ECE 45', 'MATH 20B', 'ECE 30', 'ECE 5', 'PHYS 4A', 'PHYS 2B', 'ECE 161', 'ECE 65', 'PHYS 4C', 'ECE 161B', 'ECE 153'}\n",
      "[['MATH 3C', 'ECE 25', 'ECE 15'], ['ECE 30', 'ECE 5'], ['MATH 31AH', 'MATH 4C', 'MATH 10A'], ['MATH 20A', 'MATH 31BH', 'MATH 18'], ['MATH 10B', 'MATH 20D', 'PHYS 2A'], ['MATH 20B'], ['ECE 35', 'MATH 10C', 'MATH 20C'], ['ECE 109', 'ECE 45', 'PHYS 2B'], ['PHYS 2C', 'ECE 101', 'ECE 65'], ['ECE 100', 'PHYS 4A', 'ECE 153'], ['PHYS 4B'], ['ECE 161A', 'ECE 107', 'PHYS 4C'], ['ECE 161B'], ['ECE 161C']]\n",
      "1\n",
      "{'ECE 109', 'PHYS 4B', 'MATH 3C', 'MATH 31AH', 'ECE 25', 'MATH 4C', 'ECE 35', 'MATH 10B', 'MATH 10A', 'ECE 161', 'ECE 161C', 'ECE 100', 'MATH 20A', 'ECE 15', 'MATH 31BH', 'MATH 20C', 'MATH 20F', 'PHYS 2C', 'ECE 161A', 'ECE 101', 'MATH 20D', 'PHYS 2A', 'MATH 18', 'MATH 21C', 'ECE 107', 'ECE 45', 'MATH 20B', 'ECE 30', 'ECE 5', 'PHYS 4A', 'PHYS 2B', 'ECE 152A', 'ECE 65', 'PHYS 4C', 'ECE 161B', 'ECE 153'}\n",
      "[['MATH 3C', 'ECE 25', 'ECE 15'], ['ECE 30', 'ECE 5'], ['MATH 31AH', 'MATH 4C'], ['MATH 10A', 'MATH 31BH'], ['MATH 10B', 'MATH 20A', 'MATH 20D'], ['MATH 18', 'MATH 20B'], ['ECE 109', 'MATH 20C', 'PHYS 4A'], ['PHYS 2A', 'PHYS 2B', 'ECE 153'], ['ECE 35', 'PHYS 2C'], ['ECE 45', 'ECE 65'], ['PHYS 4B', 'ECE 101'], ['ECE 100', 'ECE 161A', 'ECE 107'], ['ECE 161B'], ['ECE 161C'], ['PHYS 4C']]\n",
      "1\n",
      "{'ECE 109', 'PHYS 4B', 'MATH 3C', 'MATH 31AH', 'ECE 25', 'MATH 4C', 'ECE 35', 'MATH 10B', 'MATH 10A', 'ECE 161C', 'ECE 100', 'MATH 20A', 'ECE 15', 'MATH 31BH', 'MATH 20C', 'MATH 20F', 'PHYS 2C', 'ECE 161A', 'ECE 101', 'MATH 20D', 'PHYS 2A', 'MATH 18', 'ECE 152A', 'ECE 107', 'ECE 45', 'MATH 20B', 'ECE 30', 'ECE 5', 'PHYS 4A', 'PHYS 2B', 'ECE 161', 'ECE 65', 'PHYS 4C', 'ECE 161B', 'ECE 153'}\n",
      "[['MATH 3C', 'ECE 25', 'ECE 15'], ['MATH 10A', 'MATH 18', 'ECE 30'], ['MATH 31AH', 'MATH 4C', 'MATH 20A'], ['MATH 10B', 'MATH 31BH', 'MATH 20B'], ['MATH 20C', 'MATH 20D', 'PHYS 2A'], ['ECE 109', 'ECE 35', 'ECE 5'], ['ECE 45', 'PHYS 4A', 'ECE 65'], ['PHYS 4B', 'PHYS 2C', 'ECE 101'], ['ECE 100', 'ECE 161A', 'PHYS 2B'], ['ECE 107', 'ECE 161B', 'ECE 153'], ['ECE 161C'], ['PHYS 4C']]\n"
     ]
    },
    {
     "name": "stdout",
     "output_type": "stream",
     "text": [
      "1\n",
      "{'ECE 109', 'PHYS 4B', 'MATH 3C', 'MATH 31AH', 'ECE 25', 'MATH 4C', 'ECE 35', 'MATH 10B', 'MATH 10A', 'ECE 161C', 'ECE 100', 'MATH 20A', 'ECE 15', 'MATH 10C', 'MATH 31BH', 'MATH 20C', 'PHYS 2C', 'PHYS 4C', 'ECE 161A', 'ECE 101', 'MATH 20D', 'PHYS 2A', 'MATH 18', 'ECE 152A', 'ECE 107', 'ECE 45', 'MATH 20B', 'ECE 30', 'ECE 5', 'PHYS 4A', 'PHYS 2B', 'ECE 161', 'ECE 65', 'MATH 21C', 'ECE 161B', 'ECE 153'}\n",
      "[['MATH 3C', 'ECE 25', 'ECE 15'], ['ECE 30', 'ECE 5'], ['MATH 31AH', 'MATH 4C'], ['MATH 10A', 'MATH 20A', 'MATH 31BH'], ['MATH 10B', 'MATH 18'], ['MATH 10C', 'MATH 20D', 'MATH 20B'], ['ECE 109', 'MATH 20C', 'PHYS 2A'], ['ECE 35', 'PHYS 2C', 'PHYS 2B'], ['PHYS 4C', 'ECE 45', 'ECE 65'], ['ECE 100', 'ECE 101', 'ECE 107'], ['ECE 153'], ['ECE 161A'], ['PHYS 4A', 'ECE 161B'], ['PHYS 4B', 'ECE 161C']]\n",
      "1\n",
      "{'ECE 109', 'MATH 3C', 'PHYS 4B', 'MATH 31AH', 'ECE 25', 'MATH 4C', 'ECE 35', 'MATH 10B', 'MATH 10A', 'ECE 161', 'ECE 161C', 'ECE 100', 'MATH 20A', 'ECE 15', 'MATH 10C', 'MATH 31BH', 'MATH 20C', 'MATH 20F', 'PHYS 2C', 'ECE 161A', 'ECE 101', 'MATH 20D', 'PHYS 2A', 'MATH 18', 'ECE 107', 'ECE 45', 'MATH 20B', 'ECE 30', 'ECE 5', 'PHYS 4A', 'PHYS 2B', 'ECE 152A', 'ECE 65', 'PHYS 4C', 'ECE 161B', 'ECE 153'}\n",
      "[['MATH 3C', 'ECE 25', 'ECE 15'], ['MATH 18', 'ECE 30', 'ECE 5'], ['MATH 31AH', 'MATH 4C', 'MATH 10A'], ['MATH 10B', 'MATH 20A', 'MATH 31BH'], ['MATH 10C', 'MATH 20D', 'MATH 20B'], ['MATH 20C', 'PHYS 2A'], ['ECE 109', 'ECE 35', 'PHYS 4A'], ['PHYS 4B', 'PHYS 2C', 'ECE 45'], ['ECE 101', 'PHYS 2B', 'ECE 65'], ['ECE 100', 'ECE 107', 'ECE 153'], [], ['ECE 161A', 'PHYS 4C'], ['ECE 161B'], ['ECE 161C']]\n",
      "1\n",
      "{'ECE 109', 'MATH 3C', 'PHYS 4B', 'MATH 31AH', 'ECE 25', 'MATH 4C', 'ECE 35', 'MATH 10B', 'MATH 10A', 'ECE 161', 'ECE 161C', 'ECE 100', 'MATH 20A', 'ECE 15', 'MATH 10C', 'MATH 31BH', 'MATH 20C', 'MATH 20F', 'PHYS 2C', 'ECE 161A', 'ECE 101', 'MATH 20D', 'PHYS 2A', 'MATH 18', 'MATH 21C', 'ECE 107', 'ECE 45', 'MATH 20B', 'ECE 30', 'ECE 5', 'PHYS 4A', 'PHYS 2B', 'ECE 152A', 'ECE 65', 'PHYS 4C', 'ECE 161B', 'ECE 153'}\n",
      "[['MATH 3C', 'ECE 25', 'ECE 15'], ['MATH 10A', 'ECE 30', 'ECE 5'], ['MATH 31AH', 'MATH 4C', 'MATH 20A'], ['MATH 10B', 'MATH 31BH', 'MATH 18'], ['MATH 20B'], ['MATH 10C', 'MATH 20C'], ['MATH 20D', 'PHYS 2A', 'PHYS 4A'], ['ECE 109', 'PHYS 4B', 'ECE 35'], ['PHYS 2C', 'ECE 45', 'PHYS 2B'], ['ECE 101', 'ECE 65', 'ECE 153'], [], ['ECE 100', 'ECE 161A', 'ECE 107'], ['ECE 161B'], ['ECE 161C'], ['PHYS 4C']]\n",
      "1\n",
      "{'ECE 109', 'PHYS 4B', 'MATH 3C', 'MATH 31AH', 'ECE 25', 'MATH 4C', 'ECE 35', 'MATH 10B', 'MATH 10A', 'ECE 161', 'ECE 161C', 'ECE 100', 'MATH 20A', 'ECE 15', 'MATH 10C', 'MATH 31BH', 'MATH 20C', 'MATH 20F', 'PHYS 2C', 'ECE 161A', 'ECE 101', 'MATH 20D', 'PHYS 2A', 'MATH 18', 'MATH 21C', 'ECE 107', 'ECE 45', 'MATH 20B', 'ECE 30', 'ECE 5', 'PHYS 4A', 'PHYS 2B', 'ECE 152A', 'ECE 65', 'PHYS 4C', 'ECE 161B', 'ECE 153'}\n",
      "[['MATH 3C', 'ECE 25', 'ECE 15'], ['MATH 18', 'ECE 30', 'ECE 5'], ['MATH 31AH', 'MATH 4C', 'MATH 10A'], ['MATH 20A', 'MATH 31BH'], ['MATH 10B'], ['MATH 20D', 'MATH 20B'], ['ECE 109', 'MATH 10C', 'MATH 20C'], ['PHYS 2A', 'ECE 153'], ['ECE 35', 'PHYS 2C'], ['ECE 45', 'PHYS 4A', 'ECE 65'], ['PHYS 4B', 'ECE 101', 'PHYS 2B'], ['ECE 100', 'ECE 161A', 'ECE 107'], ['ECE 161B'], ['ECE 161C'], ['PHYS 4C']]\n",
      "1\n",
      "{'ECE 109', 'PHYS 4B', 'MATH 3C', 'MATH 31AH', 'ECE 25', 'MATH 4C', 'ECE 35', 'MATH 10B', 'MATH 10A', 'ECE 161', 'ECE 161C', 'ECE 100', 'MATH 20A', 'ECE 15', 'MATH 10C', 'MATH 31BH', 'MATH 20C', 'MATH 20F', 'PHYS 2C', 'ECE 161A', 'ECE 101', 'MATH 20D', 'PHYS 2A', 'MATH 18', 'ECE 107', 'ECE 45', 'MATH 20B', 'ECE 30', 'ECE 5', 'PHYS 4A', 'PHYS 2B', 'ECE 152A', 'ECE 65', 'PHYS 4C', 'ECE 161B', 'ECE 153'}\n",
      "[['MATH 3C', 'ECE 25', 'ECE 15'], ['MATH 10A', 'MATH 18', 'ECE 30'], ['MATH 31AH', 'MATH 4C', 'MATH 10B'], ['MATH 20A', 'MATH 31BH', 'ECE 5'], ['MATH 10C', 'PHYS 2A'], ['MATH 20B'], ['ECE 35', 'MATH 20C', 'MATH 20D'], ['ECE 109', 'ECE 45', 'ECE 65'], ['ECE 100', 'ECE 101', 'PHYS 2B'], ['PHYS 2C', 'PHYS 4A', 'ECE 153'], ['PHYS 4B'], ['ECE 161A', 'ECE 107', 'PHYS 4C'], ['ECE 161B'], ['ECE 161C']]\n",
      "1\n",
      "{'ECE 109', 'PHYS 4B', 'MATH 3C', 'MATH 31AH', 'ECE 25', 'MATH 4C', 'ECE 35', 'MATH 10B', 'MATH 10A', 'ECE 161', 'ECE 161C', 'ECE 100', 'MATH 20A', 'ECE 15', 'MATH 31BH', 'MATH 20C', 'MATH 20F', 'PHYS 2C', 'ECE 161A', 'ECE 101', 'MATH 20D', 'PHYS 2A', 'MATH 18', 'ECE 107', 'ECE 45', 'MATH 20B', 'ECE 30', 'ECE 5', 'PHYS 4A', 'PHYS 2B', 'ECE 152A', 'ECE 65', 'PHYS 4C', 'ECE 161B', 'ECE 153'}\n",
      "[['MATH 3C', 'ECE 25', 'ECE 15'], ['ECE 30', 'ECE 5'], ['MATH 31AH', 'MATH 4C'], ['MATH 10A', 'MATH 20A', 'MATH 31BH'], ['MATH 10B', 'PHYS 2A', 'MATH 18'], ['MATH 20B', 'PHYS 2B'], ['ECE 35', 'MATH 20C', 'PHYS 4A'], ['PHYS 4B', 'PHYS 2C', 'MATH 20D'], ['ECE 109', 'ECE 45', 'ECE 65'], ['ECE 100', 'ECE 101', 'ECE 153'], ['ECE 107'], ['ECE 161A', 'PHYS 4C'], ['ECE 161B'], ['ECE 161C']]\n",
      "1\n",
      "{'ECE 109', 'PHYS 4B', 'MATH 3C', 'MATH 31AH', 'ECE 25', 'MATH 4C', 'ECE 35', 'MATH 10B', 'MATH 10A', 'ECE 161', 'ECE 161C', 'ECE 100', 'MATH 20A', 'ECE 15', 'MATH 10C', 'MATH 31BH', 'MATH 20C', 'MATH 20F', 'PHYS 2C', 'ECE 161A', 'ECE 101', 'MATH 20D', 'PHYS 2A', 'MATH 18', 'MATH 21C', 'ECE 107', 'ECE 45', 'MATH 20B', 'ECE 30', 'ECE 5', 'PHYS 4A', 'PHYS 2B', 'ECE 152A', 'ECE 65', 'PHYS 4C', 'ECE 161B', 'ECE 153'}\n",
      "[['MATH 3C', 'ECE 25', 'ECE 15'], ['MATH 18', 'ECE 30', 'ECE 5'], ['MATH 31AH', 'MATH 4C', 'MATH 10A'], ['MATH 10B', 'MATH 20A', 'MATH 31BH'], ['MATH 20B'], ['MATH 10C', 'MATH 20C', 'MATH 20D'], ['ECE 109', 'PHYS 2A', 'PHYS 4A'], ['PHYS 4B', 'ECE 35', 'PHYS 2C'], ['ECE 45', 'PHYS 2B', 'ECE 65'], ['ECE 100', 'ECE 101', 'ECE 107'], ['ECE 153'], ['ECE 161A', 'PHYS 4C'], ['ECE 161B'], ['ECE 161C']]\n",
      "1\n",
      "{'ECE 109', 'MATH 3C', 'PHYS 4B', 'MATH 31AH', 'ECE 25', 'MATH 4C', 'ECE 35', 'MATH 10B', 'MATH 10A', 'ECE 161', 'ECE 161C', 'ECE 100', 'MATH 20A', 'ECE 15', 'MATH 10C', 'MATH 31BH', 'MATH 20C', 'MATH 20F', 'PHYS 2C', 'ECE 161A', 'ECE 101', 'MATH 20D', 'PHYS 2A', 'MATH 18', 'ECE 107', 'ECE 45', 'MATH 20B', 'ECE 30', 'ECE 5', 'PHYS 4A', 'PHYS 2B', 'ECE 152A', 'ECE 65', 'PHYS 4C', 'ECE 161B', 'ECE 153'}\n",
      "[['MATH 3C', 'ECE 25', 'ECE 15'], ['MATH 10A', 'ECE 30', 'ECE 5'], ['MATH 31AH', 'MATH 4C', 'MATH 10B'], ['MATH 20A', 'MATH 10C', 'MATH 31BH'], ['MATH 18', 'MATH 20B'], ['MATH 20C', 'PHYS 2A'], ['ECE 35', 'MATH 20D', 'PHYS 4A'], ['ECE 109', 'PHYS 4B', 'PHYS 2C'], ['ECE 45', 'PHYS 2B', 'ECE 65'], ['ECE 100', 'ECE 101', 'ECE 107'], ['ECE 153'], ['ECE 161A', 'PHYS 4C'], ['ECE 161B'], ['ECE 161C']]\n",
      "1\n",
      "{'ECE 109', 'MATH 3C', 'PHYS 4B', 'MATH 31AH', 'ECE 25', 'MATH 4C', 'ECE 35', 'MATH 10B', 'MATH 10A', 'ECE 161C', 'ECE 100', 'MATH 20A', 'ECE 15', 'MATH 31BH', 'MATH 20C', 'MATH 20F', 'PHYS 2C', 'ECE 161A', 'ECE 101', 'MATH 20D', 'PHYS 2A', 'MATH 18', 'ECE 152A', 'MATH 21C', 'ECE 107', 'ECE 45', 'MATH 20B', 'ECE 30', 'ECE 5', 'PHYS 4A', 'PHYS 2B', 'ECE 161', 'ECE 65', 'PHYS 4C', 'ECE 161B', 'ECE 153'}\n",
      "[['MATH 3C', 'ECE 25', 'ECE 15'], ['MATH 10A', 'ECE 30', 'ECE 5'], ['MATH 31AH', 'MATH 4C'], ['MATH 20A', 'MATH 31BH'], ['MATH 10B', 'MATH 20D', 'MATH 18'], ['MATH 20B'], ['MATH 20C', 'PHYS 4A'], ['ECE 109', 'PHYS 2A', 'PHYS 2B'], ['ECE 35', 'PHYS 2C'], ['ECE 45', 'ECE 65', 'ECE 153'], ['PHYS 4B', 'ECE 101'], ['ECE 100', 'ECE 161A', 'ECE 107'], ['ECE 161B'], ['ECE 161C'], ['PHYS 4C']]\n",
      "[['MATH 3C', 'ECE 25', 'ECE 15'], ['MATH 10A', 'ECE 30', 'ECE 5'], ['MATH 31AH', 'MATH 4C', 'MATH 10B'], ['MATH 20A', 'MATH 10C', 'MATH 31BH'], ['PHYS 2A', 'MATH 18', 'MATH 20B'], ['ECE 35', 'MATH 20C', 'MATH 20D'], ['ECE 109', 'PHYS 2C', 'ECE 45'], ['ECE 101', 'PHYS 2B', 'ECE 65'], ['ECE 100', 'ECE 161A', 'PHYS 4C'], ['PHYS 4A', 'ECE 161B', 'ECE 153'], ['PHYS 4B', 'ECE 161C'], ['ECE 107']]\n"
     ]
    }
   ],
   "source": [
    "%matplotlib inline\n",
    "\n",
    "from strip_catalogue import get_raw_course_list, get_quarter_offerings\n",
    "from scrapercleaner import clean_scrape\n",
    "import networkx as nx\n",
    "import re\n",
    "import matplotlib.pyplot as plt\n",
    "from networkx.drawing.nx_agraph import graphviz_layout"
   ]
  },
  {
   "cell_type": "code",
   "execution_count": 2,
   "metadata": {},
   "outputs": [],
   "source": [
    "def get_avg_num_prereqs(courses, undergrad=False):\n",
    "    \"\"\"\n",
    "    Gets average number of prereqs for given courses, optionally only for undergrad.\n",
    "    Input should be same format as clean_scrape().\n",
    "    :param courses: list of courses, same as output of clean_scrape()\n",
    "    :type courses: list or tuple\n",
    "    :param undergrad: whether only undergrad should be considered\n",
    "    :type undergrad: true\n",
    "    :return: int\n",
    "    \"\"\"\n",
    "    assert isinstance(courses, list) or isinstance(courses, tuple)\n",
    "    assert isinstance(undergrad, bool)\n",
    "    sum = 0\n",
    "    count = 0\n",
    "    for (course, prereqs) in courses:\n",
    "        if undergrad:\n",
    "            num = re.findall('\\d+', course)[0]\n",
    "            if int(num) >= 200:\n",
    "                continue\n",
    "        if prereqs:\n",
    "            sum += len(prereqs)\n",
    "            count += 1\n",
    "    return sum/count"
   ]
  },
  {
   "cell_type": "code",
   "execution_count": 3,
   "metadata": {},
   "outputs": [],
   "source": [
    "def generate_graph(dept, courses, undergrad=False):\n",
    "    \"\"\"\n",
    "    Generates a graph for testing, based on a list of courses (see scrapercleaner.clean_scrape() for format).\n",
    "    :param dept: department name\n",
    "    :type dept: str\n",
    "    :param courses: list of courses from clean_scrape()\n",
    "    :type courses: list or tuple\n",
    "    :param undergrad: whether only undergrad should be considered\n",
    "    :type undergrad: true\n",
    "    :return: networkx.DiGraph\n",
    "    \"\"\"\n",
    "    assert isinstance(dept, str)\n",
    "    assert isinstance(courses, list) or isinstance(courses, tuple)\n",
    "    assert isinstance(undergrad, bool)\n",
    "\n",
    "    indep_courses = []\n",
    "    prereqs = []\n",
    "    for course in courses:\n",
    "        k, v = course\n",
    "        # remove grad classes\n",
    "        if undergrad:\n",
    "            num = re.findall('\\d+', k)[0]\n",
    "            if int(num) >= 200:\n",
    "                continue\n",
    "        if v:\n",
    "            for i in v:\n",
    "                weight = len(i)\n",
    "                for j in i:\n",
    "                    if j.startswith(dept):\n",
    "                        prereqs.append([j.split()[1].lstrip(\"0\"), k, 1/weight])\n",
    "        # if no prereqs, add as independent node\n",
    "        else:\n",
    "            indep_courses.append(k.lstrip(\"0\"))\n",
    "\n",
    "    G = nx.DiGraph()\n",
    "    G.add_nodes_from(indep_courses)\n",
    "    G.add_weighted_edges_from(prereqs)\n",
    "    return G"
   ]
  },
  {
   "cell_type": "code",
   "execution_count": 4,
   "metadata": {},
   "outputs": [],
   "source": [
    "def find_root(G, child):\n",
    "    \"\"\"\n",
    "    Find the root of any given node.\n",
    "    :param G: graph to search\n",
    "    :type G: networkx.DiGraph\n",
    "    :param child: child node to find root\n",
    "    :type child: str\n",
    "    :return: str\n",
    "    \"\"\"\n",
    "    assert isinstance(G, nx.classes.digraph.DiGraph)\n",
    "    assert isinstance(child, str)\n",
    "\n",
    "    parent = list(G.predecessors(child))\n",
    "    if len(parent) == 0:\n",
    "        return child\n",
    "    else:\n",
    "        return find_root(G, parent[0])\n",
    "\n",
    "def get_flexibility(G):\n",
    "    \"\"\"\n",
    "    Computes the number of paths between each end node and all root nodes and divides by total number of nodes.\n",
    "    :param G: graph to analyze\n",
    "    :type G: networkx.DiGraph\n",
    "    :return: float\n",
    "    \"\"\"\n",
    "    assert isinstance(G, nx.classes.digraph.DiGraph)\n",
    "\n",
    "    heads = set()\n",
    "    for i in G.nodes:\n",
    "        r = find_root(G, i)\n",
    "        if r != i:\n",
    "            heads.add(r)\n",
    "    tails = [n for n in G.nodes() if G.out_degree(n) == 0]\n",
    "    sum = 0\n",
    "    for h in heads:\n",
    "        for t in tails:\n",
    "            sum += len(list(nx.all_simple_paths(G,h,t)))\n",
    "    return sum/G.number_of_nodes()"
   ]
  },
  {
   "cell_type": "code",
   "execution_count": 5,
   "metadata": {},
   "outputs": [
    {
     "data": {
      "image/png": "[encoded data removed]",
      "text/plain": [
       "<Figure size 432x288 with 1 Axes>"
      ]
     },
     "metadata": {
      "needs_background": "light"
     },
     "output_type": "display_data"
    },
    {
     "data": {
      "image/png": "[encoded data removed]",
      "text/plain": [
       "<Figure size 432x288 with 1 Axes>"
      ]
     },
     "metadata": {
      "needs_background": "light"
     },
     "output_type": "display_data"
    },
    {
     "data": {
      "image/png": "[encoded data removed]",
      "text/plain": [
       "<Figure size 432x288 with 1 Axes>"
      ]
     },
     "metadata": {
      "needs_background": "light"
     },
     "output_type": "display_data"
    },
    {
     "data": {
      "image/png": "[encoded data removed]",
      "text/plain": [
       "<Figure size 432x288 with 1 Axes>"
      ]
     },
     "metadata": {
      "needs_background": "light"
     },
     "output_type": "display_data"
    }
   ],
   "source": [
    "depts = ['ECE', 'CSE', 'MAE', 'BENG', 'NANO', 'SE']\n",
    "colors = {'CSE': 'red', 'ECE': 'blue', 'MAE': 'green', 'NANO': 'purple', 'SE': 'orange', 'BENG': 'yellow'}\n",
    "avg_prereqs = []\n",
    "out_degrees = []\n",
    "ece_out = []\n",
    "top_ancestors = []\n",
    "flex = []\n",
    "for dept in depts:\n",
    "    raw_courses = get_raw_course_list(dept)\n",
    "    courses = clean_scrape(raw_courses)\n",
    "    avg = get_avg_num_prereqs(courses, True)\n",
    "    avg_prereqs.append([avg, dept])\n",
    "\n",
    "    G = generate_graph(dept, courses, True)\n",
    "    out_deg = list(G.out_degree)\n",
    "    out_deg.sort(key=lambda i: i[1], reverse=True)\n",
    "    # get top 3 out degrees per major\n",
    "    for i in range(3):\n",
    "        out_degrees.append([out_deg[i][1], dept + ' ' + out_deg[i][0]])\n",
    "    if dept == 'ECE':\n",
    "        for i in range(13):\n",
    "            ece_out.append([out_deg[i][1], out_deg[i][0]])\n",
    "\n",
    "    for n in G.nodes():\n",
    "        if dept == 'NANO':\n",
    "            top_ancestors.append([len(nx.algorithms.dag.ancestors(G, n)), n])\n",
    "    flex.append([get_flexibility(G),dept])\n",
    "\n",
    "avg_prereqs.sort(reverse=True)\n",
    "plt.figure()\n",
    "avg_bar = plt.bar([i[1] for i in avg_prereqs], [i[0]-1.4 for i in avg_prereqs],bottom=1.4)\n",
    "for i, bar in enumerate(avg_bar):\n",
    "    bar.set_color(colors[avg_prereqs[i][1]])\n",
    "\n",
    "plt.figure()\n",
    "e_out_bar = plt.bar([i[1] for i in ece_out], [i[0] for i in ece_out])\n",
    "for i, bar in enumerate(e_out_bar):\n",
    "    bar.set_color(colors['ECE'])    \n",
    "\n",
    "out_degrees.sort(reverse=True)\n",
    "plt.figure()\n",
    "out_bar = plt.bar([i[1] for i in out_degrees], [i[0] for i in out_degrees])\n",
    "for i, bar in enumerate(out_bar):\n",
    "    bar.set_color(colors[out_degrees[i][1].split()[0]])\n",
    "    \n",
    "top_ancestors.sort(reverse=True)\n",
    "plt.figure()\n",
    "top_ancestors = top_ancestors[:13]\n",
    "anc_bar = plt.bar([i[1] for i in top_ancestors], [i[0] for i in top_ancestors])\n",
    "for i, bar in enumerate(anc_bar):\n",
    "    bar.set_color(colors['NANO'])"
   ]
  },
  {
   "cell_type": "markdown",
   "metadata": {},
   "source": [
    "## Drawing example directed graphs"
   ]
  },
  {
   "cell_type": "code",
   "execution_count": 6,
   "metadata": {},
   "outputs": [
    {
     "data": {
      "image/png": "[encoded data removed]",
      "text/plain": [
       "<Figure size 432x288 with 1 Axes>"
      ]
     },
     "metadata": {},
     "output_type": "display_data"
    }
   ],
   "source": [
    "D = nx.DiGraph()\n",
    "D.add_edge(0,1)\n",
    "D.add_edge(1,3)\n",
    "D.add_edge(2,3)\n",
    "D.add_edge(4,5)\n",
    "D.add_edge(3,5)\n",
    "#G.add_edge(45,100)\n",
    "#G.add_edge(65,100)\n",
    "#G = nx.generators.directed.gnr_graph(15, 0.3).reverse()\n",
    "\n",
    "pos = graphviz_layout(D, prog='dot')\n",
    "#for k, v in pos.items():\n",
    "#  i,j = v\n",
    "#  pos[k] = [i/2,j]\n",
    "scale = 1\n",
    "fig = plt.figure()\n",
    "ax = fig.add_subplot(111)\n",
    "nx.draw_networkx(D, pos, arrows=True, with_labels=True, node_size=scale*800, font_size=12, node_color='LightSkyBlue', edge_color=(0.5,0.5,0.5))\n",
    "plt.axis('off')\n",
    "plt.margins(x=.25, y=.25)\n",
    "ax.set_aspect(0.75)\n",
    "plt.show()"
   ]
  },
  {
   "cell_type": "markdown",
   "metadata": {},
   "source": [
    "## For the website visualization, see `dash_viz.py` and run it\n",
    "(Dash interactivity cannot be done in a notebook, so it needs to be run as a standalone server)"
   ]
  },
  {
   "cell_type": "code",
   "execution_count": null,
   "metadata": {},
   "outputs": [],
   "source": []
  }
 ],
 "metadata": {
  "kernelspec": {
   "display_name": "Python 3",
   "language": "python",
   "name": "python3"
  },
  "language_info": {
   "codemirror_mode": {
    "name": "ipython",
    "version": 3
   },
   "file_extension": ".py",
   "mimetype": "text/x-python",
   "name": "python",
   "nbconvert_exporter": "python",
   "pygments_lexer": "ipython3",
   "version": "3.8.0"
  }
 },
 "nbformat": 4,
 "nbformat_minor": 2
}
